{
 "cells": [
  {
   "cell_type": "code",
   "execution_count": 1,
   "id": "f9033a93",
   "metadata": {
    "scrolled": false
   },
   "outputs": [
    {
     "name": "stdout",
     "output_type": "stream",
     "text": [
      "Enter a number between 0 and 1: 0.9\n",
      "Enter a number between 0 and 1:0.6\n",
      "Perceptron classification: 1\n"
     ]
    }
   ],
   "source": [
    "import numpy as np\n",
    "\n",
    "# Step function (activation function)\n",
    "def step_function(x):\n",
    "    return 1 if x >= 0.5 else 0\n",
    "\n",
    "# Perceptron class\n",
    "class Perceptron:\n",
    "    def __init__(self, learning_rate=0.1, epochs=10):\n",
    "        # Initialize weight and bias\n",
    "        self.weight = np.random.rand(2)  # Single weight for 1D input\n",
    "        self.bias = np.random.rand()    # Initialize bias randomly\n",
    "        self.learning_rate = learning_rate\n",
    "        self.epochs = epochs\n",
    "\n",
    "    # Predict output for a given input\n",
    "    def predict(self, x):\n",
    "        linear_output =np.dot(x , self.weight) + self.bias\n",
    "        return step_function(linear_output)\n",
    "\n",
    "    # Train the perceptron\n",
    "    def train(self, X, y):\n",
    "        for epoch in range(self.epochs):\n",
    "            for i in range(len(X)):\n",
    "                prediction = self.predict(X[i])\n",
    "                error = y[i] - prediction\n",
    "                # Update weight and bias\n",
    "                self.weight += self.learning_rate * error * X[i]\n",
    "                self.bias += self.learning_rate * error\n",
    "\n",
    "# Training data (classification of numbers <0.5 as 0, >=0.5 as 1)\n",
    "X = np.array([[0.1, 0.3], [0.4, 0.5],[0.4,0.5],[0.7,0.8]]) # Inputs between 0 and 1\n",
    "y = np.array([0, 0, 1, 1])          # Outputs: <0.5 => 0, >=0.5 => 1\n",
    "\n",
    "# Initialize and train perceptron\n",
    "perceptron = Perceptron()\n",
    "perceptron.train(X, y)\n",
    "\n",
    "# Function to get user input and classify it\n",
    "def user_input_classification():\n",
    "    try:\n",
    "        user_input1 = float(input(\"Enter a number between 0 and 1: \"))\n",
    "        user_input2 = float(input(\"Enter a number between 0 and 1:\"))\n",
    "        if 0 <= user_input1 and user_input2 <= 1:\n",
    "            prediction = perceptron.predict([user_input1, user_input2])\n",
    "            print(f\"Perceptron classification: {prediction}\")\n",
    "        else:\n",
    "            print(\"Please enter a number between 0 and 1.\")\n",
    "    except ValueError:\n",
    "        print(\"Invalid input. Please enter a valid number.\")\n",
    "\n",
    "# Classify user input\n",
    "user_input_classification()"
   ]
  },
  {
   "cell_type": "markdown",
   "id": "737d8864",
   "metadata": {},
   "source": [
    "# "
   ]
  },
  {
   "cell_type": "code",
   "execution_count": null,
   "id": "7ccc6851",
   "metadata": {},
   "outputs": [],
   "source": []
  }
 ],
 "metadata": {
  "kernelspec": {
   "display_name": "Python 3 (ipykernel)",
   "language": "python",
   "name": "python3"
  },
  "language_info": {
   "codemirror_mode": {
    "name": "ipython",
    "version": 3
   },
   "file_extension": ".py",
   "mimetype": "text/x-python",
   "name": "python",
   "nbconvert_exporter": "python",
   "pygments_lexer": "ipython3",
   "version": "3.11.5"
  }
 },
 "nbformat": 4,
 "nbformat_minor": 5
}
